{
  "cells": [
    {
      "cell_type": "markdown",
      "metadata": {},
      "source": [
        "---\n",
        "title: \"Gapminder 2007\"\n",
        "format: dashboard\n",
        "---"
      ],
      "id": "26b65120"
    },
    {
      "cell_type": "code",
      "metadata": {},
      "source": [
        "import pandas as px \n",
        "import plotly.express as px"
      ],
      "id": "9fbfe769",
      "execution_count": null,
      "outputs": []
    },
    {
      "cell_type": "code",
      "metadata": {},
      "source": [
        "import plotly.express as px\n",
        "p = px.line(y=[1, 2, 3])\n",
        "p"
      ],
      "id": "a69e0464",
      "execution_count": null,
      "outputs": []
    },
    {
      "cell_type": "markdown",
      "metadata": {},
      "source": [
        "# Layout\n",
        "\n",
        "## Row {height=\"30\"}\n",
        "\n",
        "### column {width=\"20\"}\n"
      ],
      "id": "e763b2a4"
    },
    {
      "cell_type": "code",
      "metadata": {},
      "source": [
        "p"
      ],
      "id": "47305aff",
      "execution_count": null,
      "outputs": []
    },
    {
      "cell_type": "markdown",
      "metadata": {},
      "source": [
        "### column {width=\"80\"}\n",
        "\n",
        "## Row {height=\"70\"}\n"
      ],
      "id": "3278de2a"
    },
    {
      "cell_type": "code",
      "metadata": {},
      "source": [
        "p"
      ],
      "id": "b9b35945",
      "execution_count": null,
      "outputs": []
    },
    {
      "cell_type": "markdown",
      "metadata": {},
      "source": [
        "# Tabsets\n"
      ],
      "id": "f91432d4"
    },
    {
      "cell_type": "code",
      "metadata": {},
      "source": [
        "p"
      ],
      "id": "547a5e7d",
      "execution_count": null,
      "outputs": []
    }
  ],
  "metadata": {
    "kernelspec": {
      "name": "python3",
      "language": "python",
      "display_name": "Python 3 (ipykernel)",
      "path": "c:\\Users\\lenovo\\Documents\\GitHub\\co2_emissions_demo\\.venv\\share\\jupyter\\kernels\\python3"
    }
  },
  "nbformat": 4,
  "nbformat_minor": 5
}